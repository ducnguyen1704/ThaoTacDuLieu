{
  "nbformat": 4,
  "nbformat_minor": 0,
  "metadata": {
    "colab": {
      "name": "Thực Hành 2.ipynb",
      "provenance": [],
      "authorship_tag": "ABX9TyO62LBEy2bYFc+ctfjuGQYM",
      "include_colab_link": true
    },
    "kernelspec": {
      "name": "python3",
      "display_name": "Python 3"
    },
    "language_info": {
      "name": "python"
    }
  },
  "cells": [
    {
      "cell_type": "markdown",
      "metadata": {
        "id": "view-in-github",
        "colab_type": "text"
      },
      "source": [
        "<a href=\"https://colab.research.google.com/github/ducnguyen1704/ThaoTacDuLieu/blob/master/Th%E1%BB%B1c_H%C3%A0nh_2.ipynb\" target=\"_parent\"><img src=\"https://colab.research.google.com/assets/colab-badge.svg\" alt=\"Open In Colab\"/></a>"
      ]
    },
    {
      "cell_type": "markdown",
      "source": [
        "# [Thực hành] Tách dữ liệu của một cột thành nhiều cột"
      ],
      "metadata": {
        "id": "9_V5M3orGsjY"
      }
    },
    {
      "cell_type": "code",
      "execution_count": null,
      "metadata": {
        "id": "V6BlqLKXGj_7"
      },
      "outputs": [],
      "source": [
        ""
      ]
    }
  ]
}